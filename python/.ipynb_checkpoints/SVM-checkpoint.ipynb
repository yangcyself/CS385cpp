{
 "cells": [
  {
   "cell_type": "code",
   "execution_count": 12,
   "metadata": {},
   "outputs": [],
   "source": [
    "import sys\n",
    "import os\n",
    "from sklearn import svm\n",
    "sys.path.append(\"../protobuf/dataset/\")\n",
    "import hog_pb2\n",
    "import numpy as np"
   ]
  },
  {
   "cell_type": "code",
   "execution_count": 4,
   "metadata": {},
   "outputs": [],
   "source": [
    "hogfeatures = hog_pb2.hogdataset()\n"
   ]
  },
  {
   "cell_type": "code",
   "execution_count": 5,
   "metadata": {},
   "outputs": [],
   "source": [
    "f = open(\"../out/hog.ptbf\",\"rb\")\n",
    "hogfeatures.ParseFromString(f.read())\n",
    "f.close()"
   ]
  },
  {
   "cell_type": "code",
   "execution_count": 29,
   "metadata": {},
   "outputs": [
    {
     "name": "stdout",
     "output_type": "stream",
     "text": [
      "(4136, 900)\n",
      "(16544, 900)\n",
      "(1035, 900)\n",
      "(4168, 900)\n"
     ]
    }
   ],
   "source": [
    "# generate four datasets and each is a numpy matrix\n",
    "datasets = { d:{ c:None for c in [\"pos\",\"neg\"] } for d in [\"test\",\"train\"]}\n",
    "imagepaths = { d:{ c:None for c in [\"pos\",\"neg\"] } for d in [\"test\",\"train\"]}\n",
    "for dat in hogfeatures.data:\n",
    "    classtype = \"pos\" if dat.classtype else \"neg\"\n",
    "    datatype = \"test\" if dat.datatype else \"train\"\n",
    "    featureMatrix = []\n",
    "    paths = []\n",
    "    for img in dat.image:\n",
    "        featureMatrix.append(img.imghog)\n",
    "        paths.append(img.imgpath)\n",
    "    featureMatrix = np.array(featureMatrix)\n",
    "    print(featureMatrix.shape)\n",
    "    datasets[datatype][classtype] = featureMatrix\n",
    "    imagepaths[datatype][classtype] = paths\n"
   ]
  },
  {
   "cell_type": "code",
   "execution_count": 25,
   "metadata": {},
   "outputs": [
    {
     "name": "stdout",
     "output_type": "stream",
     "text": [
      "(20680, 900)\n",
      "(20680,)\n",
      "(5203, 900)\n",
      "(5203,)\n"
     ]
    }
   ],
   "source": [
    "def datamatrixgen(classtype):\n",
    "    X = np.concatenate((datasets[classtype][\"pos\"], datasets[classtype][\"neg\"]),axis = 0)\n",
    "    posnum = datasets[classtype][\"pos\"].shape[0]\n",
    "    negnum = datasets[classtype][\"neg\"].shape[0]\n",
    "    y = np.concatenate((np.ones((posnum,)), np.zeros((negnum,)) ) ,axis = 0 )\n",
    "    paths = imagepaths[classtype][\"pos\"] + imagepaths[classtype][\"neg\"]\n",
    "    return X, y, paths\n",
    "trainX,trainy,trainpaths = datamatrixgen(\"train\")\n",
    "testX,testy,testpaths = datamatrixgen(\"test\")\n",
    "\n",
    "print(trainX.shape)\n",
    "print(trainy.shape)\n",
    "print(trainpaths)\n",
    "\n",
    "print(testX.shape)\n",
    "print(testy.shape)\n",
    "print(testpaths)\n",
    "\n",
    "# print(trainy.dtype)\n",
    "# clf = svm.SVC(gamma='scale')\n",
    "# clf.fit(X, y)  "
   ]
  },
  {
   "cell_type": "code",
   "execution_count": 24,
   "metadata": {},
   "outputs": [
    {
     "data": {
      "text/plain": [
       "SVC(C=1.0, cache_size=200, class_weight=None, coef0=0.0,\n",
       "  decision_function_shape='ovr', degree=3, gamma='auto', kernel='rbf',\n",
       "  max_iter=-1, probability=False, random_state=None, shrinking=True,\n",
       "  tol=0.001, verbose=False)"
      ]
     },
     "execution_count": 24,
     "metadata": {},
     "output_type": "execute_result"
    }
   ],
   "source": [
    "clf = svm.SVC(gamma='auto')\n",
    "clf.fit(trainX, trainy)  "
   ]
  },
  {
   "cell_type": "code",
   "execution_count": 27,
   "metadata": {},
   "outputs": [],
   "source": [
    "# clf.predict()\n",
    "acc = np.count_nonzero(clf.predict(testX) == testy) / testy.shape[0]\n"
   ]
  },
  {
   "cell_type": "code",
   "execution_count": 28,
   "metadata": {},
   "outputs": [
    {
     "name": "stdout",
     "output_type": "stream",
     "text": [
      "0.9667499519507976\n",
      "3660\n",
      "3660\n"
     ]
    }
   ],
   "source": [
    "print(acc)\n",
    "print(len(clf.support_vectors_))\n",
    "print(len(clf.support_ ))\n"
   ]
  },
  {
   "cell_type": "code",
   "execution_count": null,
   "metadata": {},
   "outputs": [],
   "source": [
    "def calculate_support_index(support)"
   ]
  }
 ],
 "metadata": {
  "kernelspec": {
   "display_name": "Python 3",
   "language": "python",
   "name": "python3"
  },
  "language_info": {
   "codemirror_mode": {
    "name": "ipython",
    "version": 3
   },
   "file_extension": ".py",
   "mimetype": "text/x-python",
   "name": "python",
   "nbconvert_exporter": "python",
   "pygments_lexer": "ipython3",
   "version": "3.6.3"
  }
 },
 "nbformat": 4,
 "nbformat_minor": 2
}
